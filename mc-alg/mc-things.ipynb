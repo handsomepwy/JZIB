{
 "cells": [
  {
   "cell_type": "markdown",
   "source": [
    "# 蒙特卡洛相关内容介绍\n",
    "## 1. 三门问题（做完了再搜题目）\n",
    "### 题干\n",
    "你的面前有三扇门，**一扇门后是车**，**两扇门后是羊**，你的目标是**得到车**\n",
    "1. 你随机选了一扇门\n",
    "2. 主持人开了另外一扇门，背后是羊\n",
    "3. 现在还有两扇门，必定一扇背后是车，一扇背后是羊\n",
    "4. 换门赢车概率大，还是不换门概率大？\n",
    "5. 你的假设是："
   ],
   "metadata": {
    "collapsed": false
   },
   "id": "23125c9db07ea6b0"
  },
  {
   "cell_type": "code",
   "execution_count": null,
   "outputs": [],
   "source": [
    "while True:\n",
    "    try:\n",
    "        a = float(input(\"你的猜想是：换门的胜率为（请填小数，如0.4）\"))\n",
    "        if 0 <= a <= 1:\n",
    "            break\n",
    "    except ValueError:\n",
    "        continue\n",
    "print(f\"你认为换门的胜率为{a*100}%\")"
   ],
   "metadata": {
    "collapsed": false
   },
   "id": "6045399b3972cd63"
  },
  {
   "cell_type": "markdown",
   "source": [
    "### 现在，开始编程叭！\n",
    "流程：赢的次数设定初始化为0->循环：（设定哪个门是车-设定一开始选择的门-设定主持人开的哪扇门-设定换门后选的哪扇门-若门后为车，则赢的次数+1）"
   ],
   "metadata": {
    "collapsed": false
   },
   "id": "c130773ac01f5ee4"
  },
  {
   "cell_type": "code",
   "execution_count": null,
   "outputs": [],
   "source": [
    "# 在这里写你的代码"
   ],
   "metadata": {
    "collapsed": false
   },
   "id": "92e1422a9dd15bed"
  },
  {
   "cell_type": "markdown",
   "source": [
    "以下是sample code，仅供参考"
   ],
   "metadata": {
    "collapsed": false
   },
   "id": "95e4d99798600057"
  },
  {
   "cell_type": "code",
   "execution_count": null,
   "outputs": [],
   "source": [
    "import random\n",
    "\n",
    "won_time = 0\n",
    "loop_times = 10000\n",
    "for i in range(loop_times):\n",
    "    doors = [0, 1, 2]\n",
    "    prize_door = random.choice(doors)\n",
    "    first_door = random.choice(doors)\n",
    "    open_door = random.choice(doors)\n",
    "    while open_door == prize_door or open_door == first_door:\n",
    "        open_door = random.choice(doors)\n",
    "    final_door = first_door\n",
    "    while final_door == first_door or final_door == open_door:\n",
    "        final_door = random.choice(doors)\n",
    "    if final_door == prize_door:\n",
    "        won_time += 1\n",
    "print(won_time)\n",
    "print(f\"换门的胜率为{won_time/loop_times}\")\n",
    "# 尝试将loop_times增加（注意增加的尺度）"
   ],
   "metadata": {
    "collapsed": false
   },
   "id": "ea6fc6e17d16a9f"
  },
  {
   "cell_type": "markdown",
   "source": [
    "### 扩展\n",
    "一下代码片段和上方的sample code极为类似，但为什么胜率却是接近50%呢？"
   ],
   "metadata": {
    "collapsed": false
   },
   "id": "29f831d866b778a3"
  },
  {
   "cell_type": "code",
   "execution_count": null,
   "outputs": [],
   "source": [
    "import random\n",
    "\n",
    "won_time = 0\n",
    "loop_times = 1000\n",
    "for i in range(loop_times):\n",
    "    doors = [0, 1, 2]\n",
    "    prize_door = random.choice(doors)\n",
    "    first_door = random.choice(doors)\n",
    "    open_door = random.choice(doors)\n",
    "    while open_door == prize_door or open_door == first_door:\n",
    "        open_door = random.choice(doors)\n",
    "    final_door = first_door\n",
    "    # random.random()<0.5的理论几率为50%\n",
    "    if random.random() < 0.5:\n",
    "        while final_door == first_door or final_door == open_door:\n",
    "            final_door = random.choice(doors)\n",
    "    if final_door == prize_door:\n",
    "        won_time += 1\n",
    "print(won_time)"
   ],
   "metadata": {
    "collapsed": false
   },
   "id": "3f3f48631ab75d05"
  },
  {
   "cell_type": "markdown",
   "source": [
    "#### Your answer\n",
    "write here"
   ],
   "metadata": {
    "collapsed": false
   },
   "id": "506689d9fc27f2a"
  },
  {
   "cell_type": "markdown",
   "source": [
    "## 2. 布丰投针问题\n",
    "### 简介\n",
    "一个人拿着张纸，纸上画着间隔为1cm的平行线\n",
    "他另一只手上捧着一盒装有数百个长度为1cm的针。\n",
    "他把纸放在地上，将针全部撒在纸上。\n",
    "他蹲下来数了一下有几根针和平行线相交。\n",
    "他报出了一个数：3.142\n",
    "他是布丰\n",
    "### 理论推导\n",
    "如果要考虑一根针与线是否相交，有两个因素：针（的延长线）与最近的线的夹角，和这根针与平行线的距离（在此处，距离指的是针的中点对离其最近的线的距离）\n",
    "设定针与平行线的距离为y，针与线的夹角为x。\n",
    "则：当针的一端与线相交的时候，y可以用x表示，即$y=斜边*sin(x)$\n",
    "由于针的长度为1，取中点，则斜边长为$\\frac{1}{2}$\n",
    "带入其中：$y=\\frac{sin(x)}{2}$\n",
    "因此，只要针与平行线的距离小于$\\frac{sin(x)}{2}$，即可判定为针与线相交\n",
    "故，若针线相交，则必定$y\\leq\\frac{sin(x)}{2}$"
   ],
   "metadata": {
    "collapsed": false
   },
   "id": "d5c5ecb4d833e8ce"
  },
  {
   "cell_type": "markdown",
   "source": [
    "我们可以画一张函数图，函数为$y=\\frac{sin(x)}{2}$。（去desmos.com画）"
   ],
   "metadata": {
    "collapsed": false
   },
   "id": "4ffe720d8980c614"
  },
  {
   "cell_type": "markdown",
   "source": [
    "选取函数图像处于$0\\leq x\\leq \\pi$的区域,也就是第一个拱。此拱与$x$轴相交的面积为1，而将此拱框起的长方形面积为$\\frac{\\pi}{2}$\n",
    "也就证明之前推出的$y\\leq\\frac{sin(x)}{2}$占所有情况的$\\frac{1}{\\frac{\\pi}{2}}$，也就是$\\frac{2}{\\pi}$\n",
    "即，$\\frac{{P}_{相交}}{{P}_{总}}=\\frac{2}{\\pi}$\n",
    "以上，为理论推导部分，接下来请用python模拟布丰投针实验"
   ],
   "metadata": {
    "collapsed": false
   },
   "id": "406b0470fcadeb22"
  },
  {
   "cell_type": "markdown",
   "source": [
    "首先，上述推导中已经提到过，针和线是否相交与两个因素有关：针（的延长线）与最近的线的夹角，和这根针与平行线的距离。\n",
    "这两个因素很简单，都是均匀分布的，故可以用random库中的uniform或random函数（random函数需乘以一个常量）模拟这两个参数。\n",
    "为了方便，我们使用uniform函数。"
   ],
   "metadata": {
    "collapsed": false
   },
   "id": "428bab698e08f45b"
  },
  {
   "cell_type": "code",
   "execution_count": null,
   "outputs": [],
   "source": [
    "import random\n",
    "random.uniform(0, 10)\n",
    "# 每次调用将返回大于等于第一个参数（0），小于等于第二个参数（10）的float"
   ],
   "metadata": {
    "collapsed": false
   },
   "id": "82274921f5701484"
  },
  {
   "cell_type": "markdown",
   "source": [
    "由于$y\\leq\\frac{sin(x)}{2}$中需要三角函数$sin$，故我们可以用math库中的sin。"
   ],
   "metadata": {
    "collapsed": false
   },
   "id": "684e2f2c1b9803e7"
  },
  {
   "cell_type": "code",
   "execution_count": null,
   "outputs": [],
   "source": [
    "import math\n",
    "\n",
    "print(math.sin(3.1415926/2))"
   ],
   "metadata": {
    "collapsed": false
   },
   "id": "207aa72c7a84629c"
  },
  {
   "cell_type": "code",
   "execution_count": null,
   "outputs": [],
   "source": [
    "# 学会了吧，其他没有什么技术难点了，开始写吧\n",
    "# write your code here"
   ],
   "metadata": {
    "collapsed": false
   },
   "id": "396b4674f32eff1d"
  },
  {
   "cell_type": "code",
   "execution_count": null,
   "outputs": [],
   "source": [
    "# sample code，仅供参考\n",
    "import math\n",
    "import random\n",
    "\n",
    "in_point = 0\n",
    "loop_times = 10000000\n",
    "for i in range(loop_times):\n",
    "    x = random.random() / 2\n",
    "    theta = random.uniform(0, math.pi)\n",
    "    if x <= math.sin(theta)/2:\n",
    "        in_point += 1\n",
    "print(\"in point: \"+str(in_point))\n",
    "result_pi = loop_times / in_point * 2\n",
    "print(\"result pi: \"+str(result_pi))"
   ],
   "metadata": {
    "collapsed": false
   },
   "id": "82c76f150e3f3cac"
  }
 ],
 "metadata": {
  "kernelspec": {
   "display_name": "Python 3",
   "language": "python",
   "name": "python3"
  },
  "language_info": {
   "codemirror_mode": {
    "name": "ipython",
    "version": 2
   },
   "file_extension": ".py",
   "mimetype": "text/x-python",
   "name": "python",
   "nbconvert_exporter": "python",
   "pygments_lexer": "ipython2",
   "version": "2.7.6"
  }
 },
 "nbformat": 4,
 "nbformat_minor": 5
}
